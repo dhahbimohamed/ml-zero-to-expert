{
  "nbformat": 4,
  "nbformat_minor": 0,
  "metadata": {
    "colab": {
      "provenance": [],
      "authorship_tag": "ABX9TyMtNaMff5ePlMToHc34FsK4",
      "include_colab_link": true
    },
    "kernelspec": {
      "name": "python3",
      "display_name": "Python 3"
    },
    "language_info": {
      "name": "python"
    }
  },
  "cells": [
    {
      "cell_type": "markdown",
      "metadata": {
        "id": "view-in-github",
        "colab_type": "text"
      },
      "source": [
        "<a href=\"https://colab.research.google.com/github/dhahbimohamed/ml-zero-to-expert/blob/main/08_logistic_regression.ipynb\" target=\"_parent\"><img src=\"https://colab.research.google.com/assets/colab-badge.svg\" alt=\"Open In Colab\"/></a>"
      ]
    },
    {
      "cell_type": "markdown",
      "source": [
        "**🧠 My Overall Rating: 8.5/10**"
      ],
      "metadata": {
        "id": "zYA2Dquz4vuS"
      }
    },
    {
      "cell_type": "code",
      "source": [
        "from sklearn.datasets import load_breast_cancer\n",
        "from sklearn.model_selection import train_test_split\n",
        "from sklearn.linear_model import LogisticRegression\n",
        "from sklearn.metrics import classification_report , confusion_matrix\n",
        "import pandas as pd\n",
        "import matplotlib.pyplot as plt\n",
        "import seaborn as sns"
      ],
      "metadata": {
        "id": "uAw1wrmNnZSz"
      },
      "execution_count": null,
      "outputs": []
    },
    {
      "cell_type": "code",
      "source": [
        "data = load_breast_cancer()\n",
        "X = pd.DataFrame(data.data , columns = data.feature_names)\n",
        "y = data.target"
      ],
      "metadata": {
        "id": "bbSuxIRYn3wc"
      },
      "execution_count": null,
      "outputs": []
    },
    {
      "cell_type": "code",
      "source": [
        "X_train,X_test,y_train,y_test = train_test_split(X,y,test_size=0.2,random_state=42)"
      ],
      "metadata": {
        "id": "yTLKEBuMoUlM"
      },
      "execution_count": null,
      "outputs": []
    },
    {
      "cell_type": "markdown",
      "source": [
        "# **1️⃣ What is Logistic Regression?**\n",
        "Logistic Regression is a type of linear model used for classification tasks rather than predicting continuous values. While linear regression predicts numerical outcomes (like salary or house prices), logistic regression predicts probabilities of classes, such as whether an email is spam or not, or if a tumor is malignant (0) or benign (1). It uses the sigmoid function to map any real-valued input into a range between 0 and 1, which is then interpreted as a probability.\n",
        "\n",
        "\n",
        "\n",
        "\n",
        "\n",
        "![image.png](data:image/png;base64,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)\n",
        "\n",
        "\n",
        "\n",
        "\n",
        "![image.png](data:image/png;base64,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)"
      ],
      "metadata": {
        "id": "WyR0wSmuxRW9"
      }
    },
    {
      "cell_type": "code",
      "source": [
        "model = LogisticRegression(max_iter=10000)\n",
        "model.fit(X_train,y_train)"
      ],
      "metadata": {
        "colab": {
          "base_uri": "https://localhost:8080/",
          "height": 80
        },
        "id": "KkgEEpl5ohUs",
        "outputId": "1bfe0444-ab5d-45bc-f312-99a2e0c23a74"
      },
      "execution_count": null,
      "outputs": [
        {
          "output_type": "execute_result",
          "data": {
            "text/plain": [
              "LogisticRegression(max_iter=10000)"
            ],
            "text/html": [
              "<style>#sk-container-id-2 {\n",
              "  /* Definition of color scheme common for light and dark mode */\n",
              "  --sklearn-color-text: #000;\n",
              "  --sklearn-color-text-muted: #666;\n",
              "  --sklearn-color-line: gray;\n",
              "  /* Definition of color scheme for unfitted estimators */\n",
              "  --sklearn-color-unfitted-level-0: #fff5e6;\n",
              "  --sklearn-color-unfitted-level-1: #f6e4d2;\n",
              "  --sklearn-color-unfitted-level-2: #ffe0b3;\n",
              "  --sklearn-color-unfitted-level-3: chocolate;\n",
              "  /* Definition of color scheme for fitted estimators */\n",
              "  --sklearn-color-fitted-level-0: #f0f8ff;\n",
              "  --sklearn-color-fitted-level-1: #d4ebff;\n",
              "  --sklearn-color-fitted-level-2: #b3dbfd;\n",
              "  --sklearn-color-fitted-level-3: cornflowerblue;\n",
              "\n",
              "  /* Specific color for light theme */\n",
              "  --sklearn-color-text-on-default-background: var(--sg-text-color, var(--theme-code-foreground, var(--jp-content-font-color1, black)));\n",
              "  --sklearn-color-background: var(--sg-background-color, var(--theme-background, var(--jp-layout-color0, white)));\n",
              "  --sklearn-color-border-box: var(--sg-text-color, var(--theme-code-foreground, var(--jp-content-font-color1, black)));\n",
              "  --sklearn-color-icon: #696969;\n",
              "\n",
              "  @media (prefers-color-scheme: dark) {\n",
              "    /* Redefinition of color scheme for dark theme */\n",
              "    --sklearn-color-text-on-default-background: var(--sg-text-color, var(--theme-code-foreground, var(--jp-content-font-color1, white)));\n",
              "    --sklearn-color-background: var(--sg-background-color, var(--theme-background, var(--jp-layout-color0, #111)));\n",
              "    --sklearn-color-border-box: var(--sg-text-color, var(--theme-code-foreground, var(--jp-content-font-color1, white)));\n",
              "    --sklearn-color-icon: #878787;\n",
              "  }\n",
              "}\n",
              "\n",
              "#sk-container-id-2 {\n",
              "  color: var(--sklearn-color-text);\n",
              "}\n",
              "\n",
              "#sk-container-id-2 pre {\n",
              "  padding: 0;\n",
              "}\n",
              "\n",
              "#sk-container-id-2 input.sk-hidden--visually {\n",
              "  border: 0;\n",
              "  clip: rect(1px 1px 1px 1px);\n",
              "  clip: rect(1px, 1px, 1px, 1px);\n",
              "  height: 1px;\n",
              "  margin: -1px;\n",
              "  overflow: hidden;\n",
              "  padding: 0;\n",
              "  position: absolute;\n",
              "  width: 1px;\n",
              "}\n",
              "\n",
              "#sk-container-id-2 div.sk-dashed-wrapped {\n",
              "  border: 1px dashed var(--sklearn-color-line);\n",
              "  margin: 0 0.4em 0.5em 0.4em;\n",
              "  box-sizing: border-box;\n",
              "  padding-bottom: 0.4em;\n",
              "  background-color: var(--sklearn-color-background);\n",
              "}\n",
              "\n",
              "#sk-container-id-2 div.sk-container {\n",
              "  /* jupyter's `normalize.less` sets `[hidden] { display: none; }`\n",
              "     but bootstrap.min.css set `[hidden] { display: none !important; }`\n",
              "     so we also need the `!important` here to be able to override the\n",
              "     default hidden behavior on the sphinx rendered scikit-learn.org.\n",
              "     See: https://github.com/scikit-learn/scikit-learn/issues/21755 */\n",
              "  display: inline-block !important;\n",
              "  position: relative;\n",
              "}\n",
              "\n",
              "#sk-container-id-2 div.sk-text-repr-fallback {\n",
              "  display: none;\n",
              "}\n",
              "\n",
              "div.sk-parallel-item,\n",
              "div.sk-serial,\n",
              "div.sk-item {\n",
              "  /* draw centered vertical line to link estimators */\n",
              "  background-image: linear-gradient(var(--sklearn-color-text-on-default-background), var(--sklearn-color-text-on-default-background));\n",
              "  background-size: 2px 100%;\n",
              "  background-repeat: no-repeat;\n",
              "  background-position: center center;\n",
              "}\n",
              "\n",
              "/* Parallel-specific style estimator block */\n",
              "\n",
              "#sk-container-id-2 div.sk-parallel-item::after {\n",
              "  content: \"\";\n",
              "  width: 100%;\n",
              "  border-bottom: 2px solid var(--sklearn-color-text-on-default-background);\n",
              "  flex-grow: 1;\n",
              "}\n",
              "\n",
              "#sk-container-id-2 div.sk-parallel {\n",
              "  display: flex;\n",
              "  align-items: stretch;\n",
              "  justify-content: center;\n",
              "  background-color: var(--sklearn-color-background);\n",
              "  position: relative;\n",
              "}\n",
              "\n",
              "#sk-container-id-2 div.sk-parallel-item {\n",
              "  display: flex;\n",
              "  flex-direction: column;\n",
              "}\n",
              "\n",
              "#sk-container-id-2 div.sk-parallel-item:first-child::after {\n",
              "  align-self: flex-end;\n",
              "  width: 50%;\n",
              "}\n",
              "\n",
              "#sk-container-id-2 div.sk-parallel-item:last-child::after {\n",
              "  align-self: flex-start;\n",
              "  width: 50%;\n",
              "}\n",
              "\n",
              "#sk-container-id-2 div.sk-parallel-item:only-child::after {\n",
              "  width: 0;\n",
              "}\n",
              "\n",
              "/* Serial-specific style estimator block */\n",
              "\n",
              "#sk-container-id-2 div.sk-serial {\n",
              "  display: flex;\n",
              "  flex-direction: column;\n",
              "  align-items: center;\n",
              "  background-color: var(--sklearn-color-background);\n",
              "  padding-right: 1em;\n",
              "  padding-left: 1em;\n",
              "}\n",
              "\n",
              "\n",
              "/* Toggleable style: style used for estimator/Pipeline/ColumnTransformer box that is\n",
              "clickable and can be expanded/collapsed.\n",
              "- Pipeline and ColumnTransformer use this feature and define the default style\n",
              "- Estimators will overwrite some part of the style using the `sk-estimator` class\n",
              "*/\n",
              "\n",
              "/* Pipeline and ColumnTransformer style (default) */\n",
              "\n",
              "#sk-container-id-2 div.sk-toggleable {\n",
              "  /* Default theme specific background. It is overwritten whether we have a\n",
              "  specific estimator or a Pipeline/ColumnTransformer */\n",
              "  background-color: var(--sklearn-color-background);\n",
              "}\n",
              "\n",
              "/* Toggleable label */\n",
              "#sk-container-id-2 label.sk-toggleable__label {\n",
              "  cursor: pointer;\n",
              "  display: flex;\n",
              "  width: 100%;\n",
              "  margin-bottom: 0;\n",
              "  padding: 0.5em;\n",
              "  box-sizing: border-box;\n",
              "  text-align: center;\n",
              "  align-items: start;\n",
              "  justify-content: space-between;\n",
              "  gap: 0.5em;\n",
              "}\n",
              "\n",
              "#sk-container-id-2 label.sk-toggleable__label .caption {\n",
              "  font-size: 0.6rem;\n",
              "  font-weight: lighter;\n",
              "  color: var(--sklearn-color-text-muted);\n",
              "}\n",
              "\n",
              "#sk-container-id-2 label.sk-toggleable__label-arrow:before {\n",
              "  /* Arrow on the left of the label */\n",
              "  content: \"▸\";\n",
              "  float: left;\n",
              "  margin-right: 0.25em;\n",
              "  color: var(--sklearn-color-icon);\n",
              "}\n",
              "\n",
              "#sk-container-id-2 label.sk-toggleable__label-arrow:hover:before {\n",
              "  color: var(--sklearn-color-text);\n",
              "}\n",
              "\n",
              "/* Toggleable content - dropdown */\n",
              "\n",
              "#sk-container-id-2 div.sk-toggleable__content {\n",
              "  max-height: 0;\n",
              "  max-width: 0;\n",
              "  overflow: hidden;\n",
              "  text-align: left;\n",
              "  /* unfitted */\n",
              "  background-color: var(--sklearn-color-unfitted-level-0);\n",
              "}\n",
              "\n",
              "#sk-container-id-2 div.sk-toggleable__content.fitted {\n",
              "  /* fitted */\n",
              "  background-color: var(--sklearn-color-fitted-level-0);\n",
              "}\n",
              "\n",
              "#sk-container-id-2 div.sk-toggleable__content pre {\n",
              "  margin: 0.2em;\n",
              "  border-radius: 0.25em;\n",
              "  color: var(--sklearn-color-text);\n",
              "  /* unfitted */\n",
              "  background-color: var(--sklearn-color-unfitted-level-0);\n",
              "}\n",
              "\n",
              "#sk-container-id-2 div.sk-toggleable__content.fitted pre {\n",
              "  /* unfitted */\n",
              "  background-color: var(--sklearn-color-fitted-level-0);\n",
              "}\n",
              "\n",
              "#sk-container-id-2 input.sk-toggleable__control:checked~div.sk-toggleable__content {\n",
              "  /* Expand drop-down */\n",
              "  max-height: 200px;\n",
              "  max-width: 100%;\n",
              "  overflow: auto;\n",
              "}\n",
              "\n",
              "#sk-container-id-2 input.sk-toggleable__control:checked~label.sk-toggleable__label-arrow:before {\n",
              "  content: \"▾\";\n",
              "}\n",
              "\n",
              "/* Pipeline/ColumnTransformer-specific style */\n",
              "\n",
              "#sk-container-id-2 div.sk-label input.sk-toggleable__control:checked~label.sk-toggleable__label {\n",
              "  color: var(--sklearn-color-text);\n",
              "  background-color: var(--sklearn-color-unfitted-level-2);\n",
              "}\n",
              "\n",
              "#sk-container-id-2 div.sk-label.fitted input.sk-toggleable__control:checked~label.sk-toggleable__label {\n",
              "  background-color: var(--sklearn-color-fitted-level-2);\n",
              "}\n",
              "\n",
              "/* Estimator-specific style */\n",
              "\n",
              "/* Colorize estimator box */\n",
              "#sk-container-id-2 div.sk-estimator input.sk-toggleable__control:checked~label.sk-toggleable__label {\n",
              "  /* unfitted */\n",
              "  background-color: var(--sklearn-color-unfitted-level-2);\n",
              "}\n",
              "\n",
              "#sk-container-id-2 div.sk-estimator.fitted input.sk-toggleable__control:checked~label.sk-toggleable__label {\n",
              "  /* fitted */\n",
              "  background-color: var(--sklearn-color-fitted-level-2);\n",
              "}\n",
              "\n",
              "#sk-container-id-2 div.sk-label label.sk-toggleable__label,\n",
              "#sk-container-id-2 div.sk-label label {\n",
              "  /* The background is the default theme color */\n",
              "  color: var(--sklearn-color-text-on-default-background);\n",
              "}\n",
              "\n",
              "/* On hover, darken the color of the background */\n",
              "#sk-container-id-2 div.sk-label:hover label.sk-toggleable__label {\n",
              "  color: var(--sklearn-color-text);\n",
              "  background-color: var(--sklearn-color-unfitted-level-2);\n",
              "}\n",
              "\n",
              "/* Label box, darken color on hover, fitted */\n",
              "#sk-container-id-2 div.sk-label.fitted:hover label.sk-toggleable__label.fitted {\n",
              "  color: var(--sklearn-color-text);\n",
              "  background-color: var(--sklearn-color-fitted-level-2);\n",
              "}\n",
              "\n",
              "/* Estimator label */\n",
              "\n",
              "#sk-container-id-2 div.sk-label label {\n",
              "  font-family: monospace;\n",
              "  font-weight: bold;\n",
              "  display: inline-block;\n",
              "  line-height: 1.2em;\n",
              "}\n",
              "\n",
              "#sk-container-id-2 div.sk-label-container {\n",
              "  text-align: center;\n",
              "}\n",
              "\n",
              "/* Estimator-specific */\n",
              "#sk-container-id-2 div.sk-estimator {\n",
              "  font-family: monospace;\n",
              "  border: 1px dotted var(--sklearn-color-border-box);\n",
              "  border-radius: 0.25em;\n",
              "  box-sizing: border-box;\n",
              "  margin-bottom: 0.5em;\n",
              "  /* unfitted */\n",
              "  background-color: var(--sklearn-color-unfitted-level-0);\n",
              "}\n",
              "\n",
              "#sk-container-id-2 div.sk-estimator.fitted {\n",
              "  /* fitted */\n",
              "  background-color: var(--sklearn-color-fitted-level-0);\n",
              "}\n",
              "\n",
              "/* on hover */\n",
              "#sk-container-id-2 div.sk-estimator:hover {\n",
              "  /* unfitted */\n",
              "  background-color: var(--sklearn-color-unfitted-level-2);\n",
              "}\n",
              "\n",
              "#sk-container-id-2 div.sk-estimator.fitted:hover {\n",
              "  /* fitted */\n",
              "  background-color: var(--sklearn-color-fitted-level-2);\n",
              "}\n",
              "\n",
              "/* Specification for estimator info (e.g. \"i\" and \"?\") */\n",
              "\n",
              "/* Common style for \"i\" and \"?\" */\n",
              "\n",
              ".sk-estimator-doc-link,\n",
              "a:link.sk-estimator-doc-link,\n",
              "a:visited.sk-estimator-doc-link {\n",
              "  float: right;\n",
              "  font-size: smaller;\n",
              "  line-height: 1em;\n",
              "  font-family: monospace;\n",
              "  background-color: var(--sklearn-color-background);\n",
              "  border-radius: 1em;\n",
              "  height: 1em;\n",
              "  width: 1em;\n",
              "  text-decoration: none !important;\n",
              "  margin-left: 0.5em;\n",
              "  text-align: center;\n",
              "  /* unfitted */\n",
              "  border: var(--sklearn-color-unfitted-level-1) 1pt solid;\n",
              "  color: var(--sklearn-color-unfitted-level-1);\n",
              "}\n",
              "\n",
              ".sk-estimator-doc-link.fitted,\n",
              "a:link.sk-estimator-doc-link.fitted,\n",
              "a:visited.sk-estimator-doc-link.fitted {\n",
              "  /* fitted */\n",
              "  border: var(--sklearn-color-fitted-level-1) 1pt solid;\n",
              "  color: var(--sklearn-color-fitted-level-1);\n",
              "}\n",
              "\n",
              "/* On hover */\n",
              "div.sk-estimator:hover .sk-estimator-doc-link:hover,\n",
              ".sk-estimator-doc-link:hover,\n",
              "div.sk-label-container:hover .sk-estimator-doc-link:hover,\n",
              ".sk-estimator-doc-link:hover {\n",
              "  /* unfitted */\n",
              "  background-color: var(--sklearn-color-unfitted-level-3);\n",
              "  color: var(--sklearn-color-background);\n",
              "  text-decoration: none;\n",
              "}\n",
              "\n",
              "div.sk-estimator.fitted:hover .sk-estimator-doc-link.fitted:hover,\n",
              ".sk-estimator-doc-link.fitted:hover,\n",
              "div.sk-label-container:hover .sk-estimator-doc-link.fitted:hover,\n",
              ".sk-estimator-doc-link.fitted:hover {\n",
              "  /* fitted */\n",
              "  background-color: var(--sklearn-color-fitted-level-3);\n",
              "  color: var(--sklearn-color-background);\n",
              "  text-decoration: none;\n",
              "}\n",
              "\n",
              "/* Span, style for the box shown on hovering the info icon */\n",
              ".sk-estimator-doc-link span {\n",
              "  display: none;\n",
              "  z-index: 9999;\n",
              "  position: relative;\n",
              "  font-weight: normal;\n",
              "  right: .2ex;\n",
              "  padding: .5ex;\n",
              "  margin: .5ex;\n",
              "  width: min-content;\n",
              "  min-width: 20ex;\n",
              "  max-width: 50ex;\n",
              "  color: var(--sklearn-color-text);\n",
              "  box-shadow: 2pt 2pt 4pt #999;\n",
              "  /* unfitted */\n",
              "  background: var(--sklearn-color-unfitted-level-0);\n",
              "  border: .5pt solid var(--sklearn-color-unfitted-level-3);\n",
              "}\n",
              "\n",
              ".sk-estimator-doc-link.fitted span {\n",
              "  /* fitted */\n",
              "  background: var(--sklearn-color-fitted-level-0);\n",
              "  border: var(--sklearn-color-fitted-level-3);\n",
              "}\n",
              "\n",
              ".sk-estimator-doc-link:hover span {\n",
              "  display: block;\n",
              "}\n",
              "\n",
              "/* \"?\"-specific style due to the `<a>` HTML tag */\n",
              "\n",
              "#sk-container-id-2 a.estimator_doc_link {\n",
              "  float: right;\n",
              "  font-size: 1rem;\n",
              "  line-height: 1em;\n",
              "  font-family: monospace;\n",
              "  background-color: var(--sklearn-color-background);\n",
              "  border-radius: 1rem;\n",
              "  height: 1rem;\n",
              "  width: 1rem;\n",
              "  text-decoration: none;\n",
              "  /* unfitted */\n",
              "  color: var(--sklearn-color-unfitted-level-1);\n",
              "  border: var(--sklearn-color-unfitted-level-1) 1pt solid;\n",
              "}\n",
              "\n",
              "#sk-container-id-2 a.estimator_doc_link.fitted {\n",
              "  /* fitted */\n",
              "  border: var(--sklearn-color-fitted-level-1) 1pt solid;\n",
              "  color: var(--sklearn-color-fitted-level-1);\n",
              "}\n",
              "\n",
              "/* On hover */\n",
              "#sk-container-id-2 a.estimator_doc_link:hover {\n",
              "  /* unfitted */\n",
              "  background-color: var(--sklearn-color-unfitted-level-3);\n",
              "  color: var(--sklearn-color-background);\n",
              "  text-decoration: none;\n",
              "}\n",
              "\n",
              "#sk-container-id-2 a.estimator_doc_link.fitted:hover {\n",
              "  /* fitted */\n",
              "  background-color: var(--sklearn-color-fitted-level-3);\n",
              "}\n",
              "</style><div id=\"sk-container-id-2\" class=\"sk-top-container\"><div class=\"sk-text-repr-fallback\"><pre>LogisticRegression(max_iter=10000)</pre><b>In a Jupyter environment, please rerun this cell to show the HTML representation or trust the notebook. <br />On GitHub, the HTML representation is unable to render, please try loading this page with nbviewer.org.</b></div><div class=\"sk-container\" hidden><div class=\"sk-item\"><div class=\"sk-estimator fitted sk-toggleable\"><input class=\"sk-toggleable__control sk-hidden--visually\" id=\"sk-estimator-id-2\" type=\"checkbox\" checked><label for=\"sk-estimator-id-2\" class=\"sk-toggleable__label fitted sk-toggleable__label-arrow\"><div><div>LogisticRegression</div></div><div><a class=\"sk-estimator-doc-link fitted\" rel=\"noreferrer\" target=\"_blank\" href=\"https://scikit-learn.org/1.6/modules/generated/sklearn.linear_model.LogisticRegression.html\">?<span>Documentation for LogisticRegression</span></a><span class=\"sk-estimator-doc-link fitted\">i<span>Fitted</span></span></div></label><div class=\"sk-toggleable__content fitted\"><pre>LogisticRegression(max_iter=10000)</pre></div> </div></div></div></div>"
            ]
          },
          "metadata": {},
          "execution_count": 15
        }
      ]
    },
    {
      "cell_type": "code",
      "source": [
        "y_pred = model.predict(X_test)"
      ],
      "metadata": {
        "id": "ZxsTpVe9olg-"
      },
      "execution_count": null,
      "outputs": []
    },
    {
      "cell_type": "markdown",
      "source": [
        "# **3️⃣ What Does the Classification Report Tell Us?**\n",
        "The classification report summarizes how well a classification model performs. It includes:\n",
        "\n",
        "* Precision the percentage of predicted positives that were actually correct.\n",
        "\n",
        "* Recall the percentage of actual positives that were correctly predicted.\n",
        "\n",
        "* F1-score the harmonic mean of precision and recall; it balances the two.\n",
        "\n",
        "* Support the number of actual samples in each class.\n",
        "\n",
        "It helps you understand not just how many predictions were correct or wrong, but how confident and consistent the model is in each class."
      ],
      "metadata": {
        "id": "KzNzPLcm3ivs"
      }
    },
    {
      "cell_type": "code",
      "source": [
        "print(classification_report(y_test,y_pred , target_names=data.target_names))"
      ],
      "metadata": {
        "colab": {
          "base_uri": "https://localhost:8080/"
        },
        "id": "tEo1tHmroqll",
        "outputId": "db4b9802-b9a2-44d6-8b68-70a969783146"
      },
      "execution_count": null,
      "outputs": [
        {
          "output_type": "stream",
          "name": "stdout",
          "text": [
            "              precision    recall  f1-score   support\n",
            "\n",
            "   malignant       0.97      0.91      0.94        43\n",
            "      benign       0.95      0.99      0.97        71\n",
            "\n",
            "    accuracy                           0.96       114\n",
            "   macro avg       0.96      0.95      0.95       114\n",
            "weighted avg       0.96      0.96      0.96       114\n",
            "\n"
          ]
        }
      ]
    },
    {
      "cell_type": "code",
      "source": [
        "sns.heatmap(confusion_matrix(y_test,y_pred), annot =True , fmt=\"d\", cmap=\"Blues\")\n",
        "plt.xlabel(\"predicted\")\n",
        "plt.ylabel(\"actual\")\n",
        "plt.title(\"confusion matrix\")\n",
        "plt.show()"
      ],
      "metadata": {
        "colab": {
          "base_uri": "https://localhost:8080/",
          "height": 472
        },
        "id": "2IbSZSMoowuD",
        "outputId": "4160f548-0265-4698-a9ed-79bea6b987f6"
      },
      "execution_count": null,
      "outputs": [
        {
          "output_type": "display_data",
          "data": {
            "text/plain": [
              "<Figure size 640x480 with 2 Axes>"
            ],
            "image/png": "[encoded data removed]"
          },
          "metadata": {}
        }
      ]
    },
    {
      "cell_type": "markdown",
      "source": [
        "# **2️⃣ How Do the Coefficients Affect the Prediction?**\n",
        "In logistic regression, each coefficient represents how much a feature influences the model’s prediction.\n",
        "\n",
        "A positive coefficient increases the probability of predicting class 1 (e.g. benign).\n",
        "\n",
        "A negative coefficient increases the probability of predicting class 0 (e.g. malignant).\n",
        "The larger the absolute value of a coefficient, the more impact that feature has on the prediction. Small or near-zero coefficients suggest the feature has little influence."
      ],
      "metadata": {
        "id": "fJCrZw-mxJ43"
      }
    },
    {
      "cell_type": "code",
      "source": [
        "coef_df = pd.DataFrame(model.coef_[0] , index=X.columns, columns=[\"Coefficient\"])\n",
        "coef_df = coef_df.sort_values(by=\"Coefficient\", ascending=False)\n",
        "print(coef_df.head(10))"
      ],
      "metadata": {
        "colab": {
          "base_uri": "https://localhost:8080/"
        },
        "id": "RwRSSes2pvd1",
        "outputId": "d0ce90c9-bd2d-45de-b5b8-e407b2d472a6"
      },
      "execution_count": null,
      "outputs": [
        {
          "output_type": "stream",
          "name": "stdout",
          "text": [
            "                         Coefficient\n",
            "texture error               1.370567\n",
            "mean radius                 1.027437\n",
            "mean texture                0.221451\n",
            "worst radius                0.111653\n",
            "compactness error           0.047361\n",
            "mean area                   0.025467\n",
            "fractal dimension error     0.011605\n",
            "worst perimeter            -0.015554\n",
            "worst area                 -0.016857\n",
            "smoothness error           -0.022455\n"
          ]
        }
      ]
    },
    {
      "cell_type": "markdown",
      "source": [
        "# **Mini Challenge**\n",
        "Print the top 5 features with the highest positive influence on predicting malignant\n"
      ],
      "metadata": {
        "id": "8yGEzvXfrLH6"
      }
    },
    {
      "cell_type": "code",
      "source": [
        "malignant_coef_df = coef_df.sort_values(by=\"Coefficient\")\n",
        "print(\"Top 5 features with the highest positive influence on predicting malignant:\")\n",
        "print(malignant_coef_df.head(5))"
      ],
      "metadata": {
        "colab": {
          "base_uri": "https://localhost:8080/"
        },
        "id": "3MQz9nDOqmDI",
        "outputId": "e9c355c1-ea28-47df-99ea-e97e6f7229fd"
      },
      "execution_count": null,
      "outputs": [
        {
          "output_type": "stream",
          "name": "stdout",
          "text": [
            "Top 5 features with the highest positive influence on predicting malignant:\n",
            "                      Coefficient\n",
            "worst concavity         -1.428595\n",
            "worst compactness       -0.772709\n",
            "worst symmetry          -0.746894\n",
            "mean concavity          -0.532558\n",
            "worst concave points    -0.510929\n"
          ]
        }
      ]
    }
  ]
}