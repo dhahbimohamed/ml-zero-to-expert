{
  "nbformat": 4,
  "nbformat_minor": 0,
  "metadata": {
    "colab": {
      "provenance": [],
      "authorship_tag": "ABX9TyNqBuYeixUt7tGokGtEcYhu",
      "include_colab_link": true
    },
    "kernelspec": {
      "name": "python3",
      "display_name": "Python 3"
    },
    "language_info": {
      "name": "python"
    }
  },
  "cells": [
    {
      "cell_type": "markdown",
      "metadata": {
        "id": "view-in-github",
        "colab_type": "text"
      },
      "source": [
        "<a href=\"https://colab.research.google.com/github/dhahbimohamed/ml-zero-to-expert/blob/main/07_naive_bayes_text.ipynb\" target=\"_parent\"><img src=\"https://colab.research.google.com/assets/colab-badge.svg\" alt=\"Open In Colab\"/></a>"
      ]
    },
    {
      "cell_type": "markdown",
      "source": [
        "# **🔹 What is Naive Bayes?**\n",
        "It’s a simple but powerful classification algorithm based on Bayes’ Theorem\n",
        "It assumes that all features are independent (naive assumption) and calculates the probability of each class given the input.\n",
        "\n",
        "P(Class∣Data)=\n",
        "P(Data)\n",
        "P(Data∣Class)⋅P(Class)\n"
      ],
      "metadata": {
        "id": "ho9-HdHM-xmV"
      }
    },
    {
      "cell_type": "markdown",
      "source": [
        "# **🔹 Why is it “Naive”?**\n",
        "Because it assumes that the input features (words) are conditionally independent, which is rarely true in language — but the algorithm still works well."
      ],
      "metadata": {
        "id": "VLl4CSod-2D0"
      }
    },
    {
      "cell_type": "markdown",
      "source": [
        "# **🔹 Where is it used?**\n",
        "Common in:\n",
        "\n",
        "Spam detection\n",
        "\n",
        "Sentiment analysis\n",
        "\n",
        "Document classification\n",
        "\n"
      ],
      "metadata": {
        "id": "U2FnFqP_-8CF"
      }
    },
    {
      "cell_type": "code",
      "source": [
        "from sklearn.datasets import fetch_20newsgroups\n",
        "data = fetch_20newsgroups(subset='train',categories=['sci.space','rec.sport.hockey'],shuffle= True)\n",
        "X,y = data.data , data.target"
      ],
      "metadata": {
        "id": "X4zt7XSN5qUI"
      },
      "execution_count": 20,
      "outputs": []
    },
    {
      "cell_type": "markdown",
      "source": [
        "* CountVectorizer() transforms text into bag of words:\n",
        "It counts how many times each word appears in the sentence.\n",
        "* stop_words='english' removes common boring words like \"the\", \"is\", \"and\"\n",
        "* fit_transform() learns all words in the corpus and builds the word frequency matrix\n",
        "\n",
        "  => So X_vectorized is now a huge matrix of word counts.\n",
        "\n"
      ],
      "metadata": {
        "id": "8Y9jPaSs_iU8"
      }
    },
    {
      "cell_type": "markdown",
      "source": [
        "* MultinomialNB() → this is Naive Bayes for text (discrete features)"
      ],
      "metadata": {
        "id": "5PplLrEbAPzf"
      }
    },
    {
      "cell_type": "code",
      "source": [
        "from sklearn.feature_extraction.text import CountVectorizer\n",
        "vectorizer = CountVectorizer(stop_words='english')\n",
        "X_vectorized = vectorizer.fit_transform(X)\n",
        "from sklearn.naive_bayes import MultinomialNB\n",
        "from sklearn.model_selection import train_test_split\n",
        "from sklearn.metrics import classification_report\n",
        "X_train,X_test,y_train,y_test = train_test_split(X_vectorized,y,test_size=0.33,random_state=42)\n",
        "\n",
        "model = MultinomialNB()\n",
        "model.fit(X_train,y_train)\n",
        "y_pred = model.predict(X_test)\n",
        "print(classification_report(y_test,y_pred, target_names=data.target_names))"
      ],
      "metadata": {
        "colab": {
          "base_uri": "https://localhost:8080/"
        },
        "id": "T19jbe-JBKK1",
        "outputId": "fdf99c56-229c-470c-d4bd-901b7c083e18"
      },
      "execution_count": 33,
      "outputs": [
        {
          "output_type": "stream",
          "name": "stdout",
          "text": [
            "                  precision    recall  f1-score   support\n",
            "\n",
            "rec.sport.hockey       1.00      0.98      0.99       208\n",
            "       sci.space       0.98      0.99      0.99       186\n",
            "\n",
            "        accuracy                           0.99       394\n",
            "       macro avg       0.99      0.99      0.99       394\n",
            "    weighted avg       0.99      0.99      0.99       394\n",
            "\n"
          ]
        }
      ]
    },
    {
      "cell_type": "code",
      "source": [
        "from sklearn.feature_extraction.text import TfidfVectorizer\n",
        "vectorizer = TfidfVectorizer(stop_words = 'english')\n",
        "X_vectorized = vectorizer.fit_transform(X)\n",
        "from sklearn.naive_bayes import MultinomialNB\n",
        "from sklearn.model_selection import train_test_split\n",
        "from sklearn.metrics import classification_report\n",
        "\n",
        "X_train, X_test, y_train, y_test = train_test_split(X_vectorized, y, test_size=0.2, random_state=42)\n",
        "\n",
        "model = MultinomialNB()\n",
        "model.fit(X_train, y_train)\n",
        "\n",
        "y_pred = model.predict(X_test)\n",
        "print(classification_report(y_test, y_pred, target_names=data.target_names))"
      ],
      "metadata": {
        "colab": {
          "base_uri": "https://localhost:8080/"
        },
        "id": "OcVUulUF7BPY",
        "outputId": "6fae1028-227b-4ee7-85db-e18f854b867f"
      },
      "execution_count": 32,
      "outputs": [
        {
          "output_type": "stream",
          "name": "stdout",
          "text": [
            "                  precision    recall  f1-score   support\n",
            "\n",
            "rec.sport.hockey       1.00      0.98      0.99       125\n",
            "       sci.space       0.97      1.00      0.99       114\n",
            "\n",
            "        accuracy                           0.99       239\n",
            "       macro avg       0.99      0.99      0.99       239\n",
            "    weighted avg       0.99      0.99      0.99       239\n",
            "\n"
          ]
        }
      ]
    },
    {
      "cell_type": "markdown",
      "source": [
        "# **🔹 CountVectorizer vs TfidfVectorizer**\n",
        "| Feature  | CountVectorizer       | TfidfVectorizer           |\n",
        "| -------- | --------------------- | ------------------------- |\n",
        "| Method   | Count words           | Weight important words    |\n",
        "| Problem  | Common words dominate | Down-weights common words |\n",
        "| Use case | Quick models          | Smarter features for ML   |\n"
      ],
      "metadata": {
        "id": "nVvzB180_GXQ"
      }
    },
    {
      "cell_type": "markdown",
      "source": [
        "# **🔹 My Performance Summary:**\n",
        "| Vectorizer      | Precision (hockey) | Precision (sci.space) | F1-score               | Support |\n",
        "| --------------- | ------------------ | --------------------- | ---------------------- | ------- |\n",
        "| CountVectorizer | High (\\~0.99)      | High                  | Excellent              | ✔️      |\n",
        "| TfidfVectorizer | Slightly different | Still high            | No drop in performance | ✔️      |\n"
      ],
      "metadata": {
        "id": "qJOG00apCB3d"
      }
    },
    {
      "cell_type": "markdown",
      "source": [
        "# **🔹 Confidence Rating:**\n",
        "6.5 / 10 — I understand Naive Bayes, the classification report, and text preprocessing better now, but I still want to improve my grasp on:\n",
        "\n",
        "What actually happens inside TF-IDF\n",
        "\n",
        "How to interpret precision/recall from real-world logic"
      ],
      "metadata": {
        "id": "AyM2qH_RCimp"
      }
    }
  ]
}