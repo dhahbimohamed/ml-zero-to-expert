{
  "nbformat": 4,
  "nbformat_minor": 0,
  "metadata": {
    "colab": {
      "provenance": [],
      "authorship_tag": "ABX9TyMeT78yNR6MVCn7He7MZgFY",
      "include_colab_link": true
    },
    "kernelspec": {
      "name": "python3",
      "display_name": "Python 3"
    },
    "language_info": {
      "name": "python"
    }
  },
  "cells": [
    {
      "cell_type": "markdown",
      "metadata": {
        "id": "view-in-github",
        "colab_type": "text"
      },
      "source": [
        "<a href=\"https://colab.research.google.com/github/dhahbimohamed/ml-zero-to-expert/blob/main/05_Model_Evaluation.ipynb\" target=\"_parent\"><img src=\"https://colab.research.google.com/assets/colab-badge.svg\" alt=\"Open In Colab\"/></a>"
      ]
    },
    {
      "cell_type": "markdown",
      "source": [
        "## **🟩 What is a Confusion Matrix?**\n",
        "A confusion matrix is a table that shows the performance of a classification model. It compares the actual values with the predicted ones and tells us how many predictions were correct or wrong. It helps us understand the types of errors a model makes."
      ],
      "metadata": {
        "id": "f05bRBknUs6f"
      }
    },
    {
      "cell_type": "code",
      "source": [
        "from sklearn.datasets import load_iris\n",
        "from sklearn.tree import DecisionTreeClassifier\n",
        "from sklearn.model_selection import train_test_split\n",
        "X,y = load_iris(return_X_y=True)\n",
        "X_train,X_test,y_train,y_test = train_test_split(X,y,test_size=0.2,random_state=0)\n",
        "\n",
        "model = DecisionTreeClassifier(max_depth=3,random_state=0)\n",
        "model.fit(X_train,y_train)\n",
        "y_pred = model.predict(X_test)\n",
        "\n",
        "\n",
        "\n"
      ],
      "metadata": {
        "id": "Di70LF0qOqhk"
      },
      "execution_count": 18,
      "outputs": []
    },
    {
      "cell_type": "code",
      "source": [
        "from sklearn.metrics import confusion_matrix , ConfusionMatrixDisplay\n",
        "cm = confusion_matrix(y_test, y_pred)\n",
        "disp = ConfusionMatrixDisplay(confusion_matrix=cm)\n",
        "disp.plot()"
      ],
      "metadata": {
        "colab": {
          "base_uri": "https://localhost:8080/",
          "height": 466
        },
        "id": "Ko1otVUUPwKt",
        "outputId": "2525e0c0-9a6f-4497-c15b-a2bac3c967f8"
      },
      "execution_count": 24,
      "outputs": [
        {
          "output_type": "execute_result",
          "data": {
            "text/plain": [
              "<sklearn.metrics._plot.confusion_matrix.ConfusionMatrixDisplay at 0x797bfb690ad0>"
            ]
          },
          "metadata": {},
          "execution_count": 24
        },
        {
          "output_type": "display_data",
          "data": {
            "text/plain": [
              "<Figure size 640x480 with 2 Axes>"
            ],
            "image/png": "[encoded data removed]"
          },
          "metadata": {}
        }
      ]
    },
    {
      "cell_type": "code",
      "source": [
        "from sklearn.metrics import classification_report\n",
        "print(classification_report(y_test, y_pred))"
      ],
      "metadata": {
        "colab": {
          "base_uri": "https://localhost:8080/"
        },
        "id": "Jy4GyYUAQc0l",
        "outputId": "ebaf0b97-b64a-4b5d-b697-dae9836e8fe9"
      },
      "execution_count": 23,
      "outputs": [
        {
          "output_type": "stream",
          "name": "stdout",
          "text": [
            "              precision    recall  f1-score   support\n",
            "\n",
            "           0       1.00      1.00      1.00        11\n",
            "           1       0.93      1.00      0.96        13\n",
            "           2       1.00      0.83      0.91         6\n",
            "\n",
            "    accuracy                           0.97        30\n",
            "   macro avg       0.98      0.94      0.96        30\n",
            "weighted avg       0.97      0.97      0.97        30\n",
            "\n"
          ]
        }
      ]
    },
    {
      "cell_type": "markdown",
      "source": [
        "# **🎯 What is Precision?**\n",
        "Precision tells us how many of the predicted positive cases were actually correct. It is important when false positives are dangerous (e.g., marking good emails as spam).\n",
        "\n"
      ],
      "metadata": {
        "id": "9IDMYkn2Uypb"
      }
    },
    {
      "cell_type": "markdown",
      "source": [
        "#**🎯 What is Recall?**\n",
        "Recall tells us how many of the actual positive cases were correctly identified. It is important when missing positives is dangerous (e.g., cancer detection).\n",
        "\n"
      ],
      "metadata": {
        "id": "qaMfTvwSU4AW"
      }
    },
    {
      "cell_type": "markdown",
      "source": [
        "# **⚖️ When to Use Each:**\n",
        "Use precision when you care more about being accurate when you say “positive.”\n",
        "\n",
        "Use recall when you care more about not missing any real positives."
      ],
      "metadata": {
        "id": "9aV6Pgw5VJ1_"
      }
    },
    {
      "cell_type": "markdown",
      "source": [
        "# **🧩 Mini Challenge – What I Learned:**\n",
        "By using only 2 classes instead of 3 from the Iris dataset, I simplified the problem to binary classification. It made the confusion matrix easier to read and understand how precision and recall change when there are only two possible outputs."
      ],
      "metadata": {
        "id": "13QnXADwVQXu"
      }
    },
    {
      "cell_type": "code",
      "source": [
        "import numpy as np\n",
        "mask = y <2\n",
        "X_binary = X[mask]\n",
        "y_binary = y[mask]\n",
        "X_train,X_test,y_train,y_test = train_test_split(X_binary,y_binary,test_size=0.2,random_state=0)\n",
        "model = DecisionTreeClassifier(max_depth=3,random_state=0)\n",
        "model.fit(X_train,y_train)\n",
        "y_pred = model.predict(X_test)\n",
        "print(classification_report(y_test, y_pred))\n",
        "cm = confusion_matrix(y_test, y_pred)\n",
        "disp = ConfusionMatrixDisplay(confusion_matrix=cm)\n",
        "disp.plot()\n"
      ],
      "metadata": {
        "colab": {
          "base_uri": "https://localhost:8080/",
          "height": 629
        },
        "id": "pQf-JJjDREFB",
        "outputId": "9841700b-a29c-4eb2-8906-75d1de4cec22"
      },
      "execution_count": 31,
      "outputs": [
        {
          "output_type": "stream",
          "name": "stdout",
          "text": [
            "              precision    recall  f1-score   support\n",
            "\n",
            "           0       1.00      1.00      1.00        10\n",
            "           1       1.00      1.00      1.00        10\n",
            "\n",
            "    accuracy                           1.00        20\n",
            "   macro avg       1.00      1.00      1.00        20\n",
            "weighted avg       1.00      1.00      1.00        20\n",
            "\n"
          ]
        },
        {
          "output_type": "execute_result",
          "data": {
            "text/plain": [
              "<sklearn.metrics._plot.confusion_matrix.ConfusionMatrixDisplay at 0x797bf90e7190>"
            ]
          },
          "metadata": {},
          "execution_count": 31
        },
        {
          "output_type": "display_data",
          "data": {
            "text/plain": [
              "<Figure size 640x480 with 2 Axes>"
            ],
            "image/png": "[encoded data removed]"
          },
          "metadata": {}
        }
      ]
    },
    {
      "cell_type": "markdown",
      "source": [
        "# **🔁 My Confidence Level:**\n",
        "7.5/10 – I understand what each metric means now, but I need more practice to remember how to read the matrix and calculate precision and recall by hand."
      ],
      "metadata": {
        "id": "rJlM2ABOVl_X"
      }
    }
  ]
}